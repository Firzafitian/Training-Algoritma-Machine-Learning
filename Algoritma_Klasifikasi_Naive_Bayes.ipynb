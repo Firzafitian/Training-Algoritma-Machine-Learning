{
  "nbformat": 4,
  "nbformat_minor": 0,
  "metadata": {
    "colab": {
      "name": "Algoritma Klasifikasi Naive Bayes.ipynb",
      "provenance": [],
      "collapsed_sections": [
        "62HW7XsLgVhc",
        "wwLtx_Xahtrs"
      ],
      "include_colab_link": true
    },
    "kernelspec": {
      "name": "python3",
      "display_name": "Python 3"
    },
    "language_info": {
      "name": "python"
    }
  },
  "cells": [
    {
      "cell_type": "markdown",
      "metadata": {
        "id": "view-in-github",
        "colab_type": "text"
      },
      "source": [
        "<a href=\"https://colab.research.google.com/github/Firzafitian/Training-Algoritma-Machine-Learning/blob/main/Algoritma_Klasifikasi_Naive_Bayes.ipynb\" target=\"_parent\"><img src=\"https://colab.research.google.com/assets/colab-badge.svg\" alt=\"Open In Colab\"/></a>"
      ]
    },
    {
      "cell_type": "markdown",
      "metadata": {
        "id": "62HW7XsLgVhc"
      },
      "source": [
        "Assalamu'alaikum warahmatullahi wabarakatuh. Puji syukur kehadirat Allah Subhana Wata'ala atas limpahan Rahmat dan HidayahNya kepada kita semua. Sholawat serta salam senantiasa tercurah limpahkan kepada baginda Muhammad Rasulullah Salallahualaihiwassalam.\n",
        "\n",
        "Halo para **Pejuang Data**. Selamat berjumpa di pertemuan keenam Program Training **Algoritma Machine\n",
        "Learning** Kelas Mahir.\n",
        "\n",
        "Pada pertemuan ini kamu akan belajar:\n",
        "\n",
        "\n",
        "\n",
        "*   Algoritma Naive Bayes\n",
        "*   Contoh Perhitungan Manual Algoritma Naive Bayes\n",
        "*   Naive Bayes Python From Scratch\n",
        "\n",
        "\n",
        "\n",
        "\n"
      ]
    },
    {
      "cell_type": "markdown",
      "metadata": {
        "id": "zYtZJShHhNCW"
      },
      "source": [
        "#**Import Modul**"
      ]
    },
    {
      "cell_type": "code",
      "metadata": {
        "id": "ld30izZDhSje"
      },
      "source": [
        "import pandas as pd\n",
        "import numpy as np\n",
        "import matplotlib.pyplot as plt\n",
        "import seaborn as sns\n",
        "sns.set_style(\"darkgrid\")"
      ],
      "execution_count": null,
      "outputs": []
    },
    {
      "cell_type": "markdown",
      "metadata": {
        "id": "wwLtx_Xahtrs"
      },
      "source": [
        "#**Model Klasifikasi Naive Bayes**\n",
        "\n",
        "Model klasifikasi Naive Bayes merupakan model klasifikasi dengan dasar gagasan Teorema Bayes dengan asumsi semua variabel prediktornya(X) adalah saling independen. Model Naive Bayes mudah untuk dibangun. Model ini tidak memiliki estimasi parameter iteratif yang kompleks yang membuatnya cocok untuk data yang sangat besar. Terlepas dari kesederhanaannya, model klasifikasi inisering kali bekerja dengan sangat baik dan banyak digunakan karena sering mengungguli metode klasifikasi yang lebih canggih. Contohnya pada klasifikasi sentimen pada dataset teks, klasifikasi email spam, dan klasifikasi dokumen."
      ]
    },
    {
      "cell_type": "markdown",
      "metadata": {
        "id": "ph-bykxiiCSW"
      },
      "source": [
        "#**Algoritma Naive Bayes**\n",
        "\n",
        "Teorema Bayes menyajikan cara untuk menghitung probabilitas bersyarat(posterior)\n",
        "$P(Y=y|X = (x_1, x_2,....x_n))$, dari $P(Y=y)$, $P(X = (x_1,x_2,....x_n))$, dan \n",
        "$P(X = (x_1,x_2,....x_n)|Y=y)$. Model klasifikasi Naive Bayes mengasumsikan bahwa pengaruh suatu\n",
        "variabel prediktor pada kelas tertentu tidak bergantung pada nilai-nilai prediktor lainnya. Asumsi ini disebut\n",
        "sebagai **class conditional independence.**\n",
        "\n",
        "![image.png](data:image/png;base64,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)"
      ]
    },
    {
      "cell_type": "markdown",
      "metadata": {
        "id": "8SiIKwGhkrD-"
      },
      "source": [
        "\n",
        "\n",
        "\n",
        "\n",
        "\n",
        "\n",
        "\n",
        "\n",
        "*   $P(Y|X)$ adalah probabilitas bersyarat (posterior) dari kelas (target) dengan suatu prediktor yang diketahui (attribut)\n",
        "*   $P(Y)$ adalah probabilitas prior dari kelas\n",
        "*   $P(X|Y)$ adalah likelihood yang merupakan probabilitas prediktor dengan kelas yang diketahui\n",
        "*   $P(X)$ adalah probabilitas prior dari prediktor(atribut)\n",
        "\n",
        "\n",
        "\n",
        "\n"
      ]
    },
    {
      "cell_type": "markdown",
      "metadata": {
        "id": "EtqEwCzjmGsb"
      },
      "source": [
        "#**Penghitungan Manual Metode Klasifikasi Naive Bayes Data Categorical**\n",
        "\n",
        "Misal kita memiliki dataset sebagai berikut:"
      ]
    },
    {
      "cell_type": "code",
      "metadata": {
        "colab": {
          "base_uri": "https://localhost:8080/",
          "height": 355
        },
        "id": "QGktizhamVpo",
        "outputId": "ce46798c-90ba-46ed-b742-c6bcb5de2fae"
      },
      "source": [
        "df = pd.DataFrame({'x_1':[0,0,1,0,2,1,0,2,2,1],\n",
        "'x_2':[0,1,2,0,2,1,2,0,1,0],\n",
        "'y':[0,1,1,1,0,0,1,0,0,0]})\n",
        "df"
      ],
      "execution_count": null,
      "outputs": [
        {
          "output_type": "execute_result",
          "data": {
            "text/html": [
              "<div>\n",
              "<style scoped>\n",
              "    .dataframe tbody tr th:only-of-type {\n",
              "        vertical-align: middle;\n",
              "    }\n",
              "\n",
              "    .dataframe tbody tr th {\n",
              "        vertical-align: top;\n",
              "    }\n",
              "\n",
              "    .dataframe thead th {\n",
              "        text-align: right;\n",
              "    }\n",
              "</style>\n",
              "<table border=\"1\" class=\"dataframe\">\n",
              "  <thead>\n",
              "    <tr style=\"text-align: right;\">\n",
              "      <th></th>\n",
              "      <th>x_1</th>\n",
              "      <th>x_2</th>\n",
              "      <th>y</th>\n",
              "    </tr>\n",
              "  </thead>\n",
              "  <tbody>\n",
              "    <tr>\n",
              "      <th>0</th>\n",
              "      <td>0</td>\n",
              "      <td>0</td>\n",
              "      <td>0</td>\n",
              "    </tr>\n",
              "    <tr>\n",
              "      <th>1</th>\n",
              "      <td>0</td>\n",
              "      <td>1</td>\n",
              "      <td>1</td>\n",
              "    </tr>\n",
              "    <tr>\n",
              "      <th>2</th>\n",
              "      <td>1</td>\n",
              "      <td>2</td>\n",
              "      <td>1</td>\n",
              "    </tr>\n",
              "    <tr>\n",
              "      <th>3</th>\n",
              "      <td>0</td>\n",
              "      <td>0</td>\n",
              "      <td>1</td>\n",
              "    </tr>\n",
              "    <tr>\n",
              "      <th>4</th>\n",
              "      <td>2</td>\n",
              "      <td>2</td>\n",
              "      <td>0</td>\n",
              "    </tr>\n",
              "    <tr>\n",
              "      <th>5</th>\n",
              "      <td>1</td>\n",
              "      <td>1</td>\n",
              "      <td>0</td>\n",
              "    </tr>\n",
              "    <tr>\n",
              "      <th>6</th>\n",
              "      <td>0</td>\n",
              "      <td>2</td>\n",
              "      <td>1</td>\n",
              "    </tr>\n",
              "    <tr>\n",
              "      <th>7</th>\n",
              "      <td>2</td>\n",
              "      <td>0</td>\n",
              "      <td>0</td>\n",
              "    </tr>\n",
              "    <tr>\n",
              "      <th>8</th>\n",
              "      <td>2</td>\n",
              "      <td>1</td>\n",
              "      <td>0</td>\n",
              "    </tr>\n",
              "    <tr>\n",
              "      <th>9</th>\n",
              "      <td>1</td>\n",
              "      <td>0</td>\n",
              "      <td>0</td>\n",
              "    </tr>\n",
              "  </tbody>\n",
              "</table>\n",
              "</div>"
            ],
            "text/plain": [
              "   x_1  x_2  y\n",
              "0    0    0  0\n",
              "1    0    1  1\n",
              "2    1    2  1\n",
              "3    0    0  1\n",
              "4    2    2  0\n",
              "5    1    1  0\n",
              "6    0    2  1\n",
              "7    2    0  0\n",
              "8    2    1  0\n",
              "9    1    0  0"
            ]
          },
          "metadata": {},
          "execution_count": 2
        }
      ]
    },
    {
      "cell_type": "markdown",
      "metadata": {
        "id": "MB6_M_camin1"
      },
      "source": [
        "Misal kita akan menghitung $P(Y = 0|X = (0,2))$ dan $P(Y = 1|X = (0,2))$\n",
        "\n",
        "Langkah-langkahnya adalah sebagai berikut:\n",
        "1. Menghitung probabilitas prior\n",
        "2. Menghitung probabilitas likelihood\n",
        "3. Mengalikan probabilitas likelihood dan probabilitas prior\n",
        "\n",
        "Berikut contohnya:\n",
        "1. Menghitung probabilitas prior:\n",
        "\n",
        "$$P(Y=0) = \\frac{Jumlah\\ Y=0}{Jumlah\\ Y=0 + Jumlah\\ Y=1} =\\frac{6}{10}$$\n",
        "\n",
        "$$P(Y=1) = \\frac{Jumlah\\ Y=1}{Jumlah\\ Y=0 + Jumlah\\ Y=1} =\\frac{4}{10}$$\n",
        "\n",
        "\n",
        "\n",
        "2. Menghitung probabilitas likelihood\n",
        "$$P(X=(0,2)|Y=0) = \\frac{Jumlah\\  X = (0,2)}{Jumlah\\ Y=0} =\\frac{0}{6}=0$$\n",
        "\n",
        "$$P(X=(0,2)|Y=1) = \\frac{Jumlah\\  X = (0,2)}{Jumlah\\ Y=1} =\\frac{1}{4}$$\n",
        "\n",
        "Cara lain adalah dengan menggunakan teorema Bayes:\n",
        "\n",
        "$$P(X=(0,2)|Y=0) = P(X_1 = 0|Y=0)* P(X_2 = 2|Y=0) = \\frac{1}{6}*\\frac {1}{6} = \\frac {1}{36}$$\n",
        "\n",
        "$$P(X=(0,2)|Y=1) = P(X_1 = 0|Y=1)* P(X_2 = 2|Y=1) = \\frac{3}{4}*\\frac {2}{4} = \\frac {6}{16}$$\n",
        "\n",
        "3. Mengalikan probabilitas likelihood dan probabilitas prior\n",
        "\n",
        "$$P(Y=0|X=(0,2)) ==> \\frac{6}{10}*\\frac {6}{36} = \\frac {24}{160}=0.10$$\n",
        "\n",
        "$$P(Y=1|X=(0,2)) ==> \\frac{4}{10}*\\frac {6}{16} = \\frac {24}{160}=0.15$$\n",
        "\n",
        "\n",
        "Dari hasil terakhir di atas diperoleh bahwa probabilitas muncul kelas y=1 dengan syarat x=(0,2) adalah yg lebih\n",
        "tinggi maka untuk input x=(0,2) hasil klasifikasinya adalah y=1"
      ]
    },
    {
      "cell_type": "markdown",
      "metadata": {
        "id": "9Y3zj7Jtnm-Q"
      },
      "source": [
        "#**Implementasi Pada Python**\n",
        "\n",
        "**Import Library**"
      ]
    },
    {
      "cell_type": "code",
      "metadata": {
        "id": "atRHwBoun1yc"
      },
      "source": [
        "import pandas as pd\n",
        "import numpy as np"
      ],
      "execution_count": null,
      "outputs": []
    },
    {
      "cell_type": "markdown",
      "metadata": {
        "id": "fE64wAhFn6HB"
      },
      "source": [
        "**DataFrame Input**"
      ]
    },
    {
      "cell_type": "code",
      "metadata": {
        "colab": {
          "base_uri": "https://localhost:8080/",
          "height": 355
        },
        "id": "3-Vdv1YAn-KO",
        "outputId": "5051ecfa-2b54-4cc5-d02f-3c11c93eb71e"
      },
      "source": [
        "df = pd.DataFrame({'x_1':[0,0,1,0,2,1,0,2,2,1],\n",
        "'x_2':[0,1,2,0,2,1,2,0,1,0],\n",
        "'y':[0,1,1,1,0,0,1,0,0,0]})\n",
        "df"
      ],
      "execution_count": null,
      "outputs": [
        {
          "output_type": "execute_result",
          "data": {
            "text/html": [
              "<div>\n",
              "<style scoped>\n",
              "    .dataframe tbody tr th:only-of-type {\n",
              "        vertical-align: middle;\n",
              "    }\n",
              "\n",
              "    .dataframe tbody tr th {\n",
              "        vertical-align: top;\n",
              "    }\n",
              "\n",
              "    .dataframe thead th {\n",
              "        text-align: right;\n",
              "    }\n",
              "</style>\n",
              "<table border=\"1\" class=\"dataframe\">\n",
              "  <thead>\n",
              "    <tr style=\"text-align: right;\">\n",
              "      <th></th>\n",
              "      <th>x_1</th>\n",
              "      <th>x_2</th>\n",
              "      <th>y</th>\n",
              "    </tr>\n",
              "  </thead>\n",
              "  <tbody>\n",
              "    <tr>\n",
              "      <th>0</th>\n",
              "      <td>0</td>\n",
              "      <td>0</td>\n",
              "      <td>0</td>\n",
              "    </tr>\n",
              "    <tr>\n",
              "      <th>1</th>\n",
              "      <td>0</td>\n",
              "      <td>1</td>\n",
              "      <td>1</td>\n",
              "    </tr>\n",
              "    <tr>\n",
              "      <th>2</th>\n",
              "      <td>1</td>\n",
              "      <td>2</td>\n",
              "      <td>1</td>\n",
              "    </tr>\n",
              "    <tr>\n",
              "      <th>3</th>\n",
              "      <td>0</td>\n",
              "      <td>0</td>\n",
              "      <td>1</td>\n",
              "    </tr>\n",
              "    <tr>\n",
              "      <th>4</th>\n",
              "      <td>2</td>\n",
              "      <td>2</td>\n",
              "      <td>0</td>\n",
              "    </tr>\n",
              "    <tr>\n",
              "      <th>5</th>\n",
              "      <td>1</td>\n",
              "      <td>1</td>\n",
              "      <td>0</td>\n",
              "    </tr>\n",
              "    <tr>\n",
              "      <th>6</th>\n",
              "      <td>0</td>\n",
              "      <td>2</td>\n",
              "      <td>1</td>\n",
              "    </tr>\n",
              "    <tr>\n",
              "      <th>7</th>\n",
              "      <td>2</td>\n",
              "      <td>0</td>\n",
              "      <td>0</td>\n",
              "    </tr>\n",
              "    <tr>\n",
              "      <th>8</th>\n",
              "      <td>2</td>\n",
              "      <td>1</td>\n",
              "      <td>0</td>\n",
              "    </tr>\n",
              "    <tr>\n",
              "      <th>9</th>\n",
              "      <td>1</td>\n",
              "      <td>0</td>\n",
              "      <td>0</td>\n",
              "    </tr>\n",
              "  </tbody>\n",
              "</table>\n",
              "</div>"
            ],
            "text/plain": [
              "   x_1  x_2  y\n",
              "0    0    0  0\n",
              "1    0    1  1\n",
              "2    1    2  1\n",
              "3    0    0  1\n",
              "4    2    2  0\n",
              "5    1    1  0\n",
              "6    0    2  1\n",
              "7    2    0  0\n",
              "8    2    1  0\n",
              "9    1    0  0"
            ]
          },
          "metadata": {},
          "execution_count": 4
        }
      ]
    },
    {
      "cell_type": "markdown",
      "metadata": {
        "id": "ktA_e8IhoLY8"
      },
      "source": [
        "**Naive Bayes untuk Data Categorical**"
      ]
    },
    {
      "cell_type": "code",
      "metadata": {
        "id": "BxSxTERRoRax"
      },
      "source": [
        "def prob_prior(df, Y):\n",
        "    label_kelas = sorted(list(df[Y].unique()))\n",
        "    prior = []\n",
        "    for i in label_kelas:\n",
        "        prior.append(len(df[df[Y]==i])/len(df))\n",
        "    return prior"
      ],
      "execution_count": null,
      "outputs": []
    },
    {
      "cell_type": "code",
      "metadata": {
        "id": "tno1ulL-oe6H"
      },
      "source": [
        "def likelihood_categorical(df, nama_var, nilai_var, Y, label):\n",
        "    feat = list(df.columns)\n",
        "    df = df[df[Y]==label]\n",
        "    p_x_dgsyrt_y = len(df[df[nama_var]==nilai_var]) / len(df)\n",
        "    return p_x_dgsyrt_y"
      ],
      "execution_count": null,
      "outputs": []
    },
    {
      "cell_type": "code",
      "metadata": {
        "id": "Igoy-nJ1op4A"
      },
      "source": [
        "def naive_bayes_categorical(df, X, Y):\n",
        "  # mengambil nama kolom\n",
        "  nama_kolom = list(df.columns)[:-1]\n",
        "\n",
        "  # menghitung prob prior\n",
        "  prior = prob_prior(df, Y)\n",
        "\n",
        "  Y_pred = []\n",
        "  # lopping pada setiap baris data\n",
        "  for x in X:\n",
        "    # menghitung likelihood\n",
        "    labels = sorted(list(df[Y].unique()))\n",
        "    likelihood = [1]*len(labels)\n",
        "    for j in range(len(labels)):\n",
        "      for i in range(len(nama_kolom)):\n",
        "        likelihood[j] *= likelihood_categorical(df, nama_kolom[i], x[i], Y, labels[j])\n",
        "\n",
        "    # menghitung posterior probability\n",
        "    post_prob = [1]*len(labels)\n",
        "    for j in range(len(labels)):\n",
        "      post_prob[j] = likelihood[j] * prior[j]\n",
        "\n",
        "    Y_pred.append(np.argmax(post_prob))\n",
        "\n",
        "  return np.array(Y_pred)"
      ],
      "execution_count": null,
      "outputs": []
    },
    {
      "cell_type": "code",
      "metadata": {
        "id": "y9WNMSTYqvNn"
      },
      "source": [
        "X = df.iloc[:,:-1].values\n",
        "Y = df.iloc[:,-1].values\n",
        "Y_pred = naive_bayes_categorical(df, X=X, Y=\"y\")"
      ],
      "execution_count": null,
      "outputs": []
    },
    {
      "cell_type": "code",
      "metadata": {
        "colab": {
          "base_uri": "https://localhost:8080/"
        },
        "id": "q3iyExr7q3O-",
        "outputId": "316d2982-e3d2-497a-83af-ee5ba6f24b6d"
      },
      "source": [
        "X"
      ],
      "execution_count": null,
      "outputs": [
        {
          "output_type": "execute_result",
          "data": {
            "text/plain": [
              "array([[0, 0],\n",
              "       [0, 1],\n",
              "       [1, 2],\n",
              "       [0, 0],\n",
              "       [2, 2],\n",
              "       [1, 1],\n",
              "       [0, 2],\n",
              "       [2, 0],\n",
              "       [2, 1],\n",
              "       [1, 0]])"
            ]
          },
          "metadata": {},
          "execution_count": 9
        }
      ]
    },
    {
      "cell_type": "code",
      "metadata": {
        "colab": {
          "base_uri": "https://localhost:8080/"
        },
        "id": "k2mEOhx3rCHV",
        "outputId": "8ec5889f-f583-47e2-b9c3-eb56501a34d4"
      },
      "source": [
        "Y_pred"
      ],
      "execution_count": null,
      "outputs": [
        {
          "output_type": "execute_result",
          "data": {
            "text/plain": [
              "array([1, 1, 1, 1, 0, 0, 1, 0, 0, 0])"
            ]
          },
          "metadata": {},
          "execution_count": 10
        }
      ]
    },
    {
      "cell_type": "code",
      "metadata": {
        "colab": {
          "base_uri": "https://localhost:8080/"
        },
        "id": "oFP0SyUOrHc8",
        "outputId": "0b04da0e-c98e-43f2-ba88-5f66602accad"
      },
      "source": [
        "Y"
      ],
      "execution_count": null,
      "outputs": [
        {
          "output_type": "execute_result",
          "data": {
            "text/plain": [
              "array([0, 1, 1, 1, 0, 0, 1, 0, 0, 0])"
            ]
          },
          "metadata": {},
          "execution_count": 11
        }
      ]
    },
    {
      "cell_type": "markdown",
      "metadata": {
        "id": "ZroJM16yrKlP"
      },
      "source": [
        "#**Implementasi Pada Data Real**\n",
        "\n",
        "**Loading Dataset**"
      ]
    },
    {
      "cell_type": "code",
      "metadata": {
        "colab": {
          "base_uri": "https://localhost:8080/",
          "height": 355
        },
        "id": "NfF14x5nrtI7",
        "outputId": "ed15a4b1-877c-42e8-b4d6-2918c0dc3b5a"
      },
      "source": [
        "data = pd.read_csv('https://raw.githubusercontent.com/nissasyfsgt/DATASET/main/diabetes.csv')\n",
        "data.head(10)"
      ],
      "execution_count": null,
      "outputs": [
        {
          "output_type": "execute_result",
          "data": {
            "text/html": [
              "<div>\n",
              "<style scoped>\n",
              "    .dataframe tbody tr th:only-of-type {\n",
              "        vertical-align: middle;\n",
              "    }\n",
              "\n",
              "    .dataframe tbody tr th {\n",
              "        vertical-align: top;\n",
              "    }\n",
              "\n",
              "    .dataframe thead th {\n",
              "        text-align: right;\n",
              "    }\n",
              "</style>\n",
              "<table border=\"1\" class=\"dataframe\">\n",
              "  <thead>\n",
              "    <tr style=\"text-align: right;\">\n",
              "      <th></th>\n",
              "      <th>Pregnancies</th>\n",
              "      <th>Glucose</th>\n",
              "      <th>BloodPressure</th>\n",
              "      <th>SkinThickness</th>\n",
              "      <th>Insulin</th>\n",
              "      <th>BMI</th>\n",
              "      <th>DiabetesPedigreeFunction</th>\n",
              "      <th>Age</th>\n",
              "      <th>Outcome</th>\n",
              "    </tr>\n",
              "  </thead>\n",
              "  <tbody>\n",
              "    <tr>\n",
              "      <th>0</th>\n",
              "      <td>6</td>\n",
              "      <td>148</td>\n",
              "      <td>72</td>\n",
              "      <td>35</td>\n",
              "      <td>0</td>\n",
              "      <td>33.6</td>\n",
              "      <td>0.627</td>\n",
              "      <td>50</td>\n",
              "      <td>1</td>\n",
              "    </tr>\n",
              "    <tr>\n",
              "      <th>1</th>\n",
              "      <td>1</td>\n",
              "      <td>85</td>\n",
              "      <td>66</td>\n",
              "      <td>29</td>\n",
              "      <td>0</td>\n",
              "      <td>26.6</td>\n",
              "      <td>0.351</td>\n",
              "      <td>31</td>\n",
              "      <td>0</td>\n",
              "    </tr>\n",
              "    <tr>\n",
              "      <th>2</th>\n",
              "      <td>8</td>\n",
              "      <td>183</td>\n",
              "      <td>64</td>\n",
              "      <td>0</td>\n",
              "      <td>0</td>\n",
              "      <td>23.3</td>\n",
              "      <td>0.672</td>\n",
              "      <td>32</td>\n",
              "      <td>1</td>\n",
              "    </tr>\n",
              "    <tr>\n",
              "      <th>3</th>\n",
              "      <td>1</td>\n",
              "      <td>89</td>\n",
              "      <td>66</td>\n",
              "      <td>23</td>\n",
              "      <td>94</td>\n",
              "      <td>28.1</td>\n",
              "      <td>0.167</td>\n",
              "      <td>21</td>\n",
              "      <td>0</td>\n",
              "    </tr>\n",
              "    <tr>\n",
              "      <th>4</th>\n",
              "      <td>0</td>\n",
              "      <td>137</td>\n",
              "      <td>40</td>\n",
              "      <td>35</td>\n",
              "      <td>168</td>\n",
              "      <td>43.1</td>\n",
              "      <td>2.288</td>\n",
              "      <td>33</td>\n",
              "      <td>1</td>\n",
              "    </tr>\n",
              "    <tr>\n",
              "      <th>5</th>\n",
              "      <td>5</td>\n",
              "      <td>116</td>\n",
              "      <td>74</td>\n",
              "      <td>0</td>\n",
              "      <td>0</td>\n",
              "      <td>25.6</td>\n",
              "      <td>0.201</td>\n",
              "      <td>30</td>\n",
              "      <td>0</td>\n",
              "    </tr>\n",
              "    <tr>\n",
              "      <th>6</th>\n",
              "      <td>3</td>\n",
              "      <td>78</td>\n",
              "      <td>50</td>\n",
              "      <td>32</td>\n",
              "      <td>88</td>\n",
              "      <td>31.0</td>\n",
              "      <td>0.248</td>\n",
              "      <td>26</td>\n",
              "      <td>1</td>\n",
              "    </tr>\n",
              "    <tr>\n",
              "      <th>7</th>\n",
              "      <td>10</td>\n",
              "      <td>115</td>\n",
              "      <td>0</td>\n",
              "      <td>0</td>\n",
              "      <td>0</td>\n",
              "      <td>35.3</td>\n",
              "      <td>0.134</td>\n",
              "      <td>29</td>\n",
              "      <td>0</td>\n",
              "    </tr>\n",
              "    <tr>\n",
              "      <th>8</th>\n",
              "      <td>2</td>\n",
              "      <td>197</td>\n",
              "      <td>70</td>\n",
              "      <td>45</td>\n",
              "      <td>543</td>\n",
              "      <td>30.5</td>\n",
              "      <td>0.158</td>\n",
              "      <td>53</td>\n",
              "      <td>1</td>\n",
              "    </tr>\n",
              "    <tr>\n",
              "      <th>9</th>\n",
              "      <td>8</td>\n",
              "      <td>125</td>\n",
              "      <td>96</td>\n",
              "      <td>0</td>\n",
              "      <td>0</td>\n",
              "      <td>0.0</td>\n",
              "      <td>0.232</td>\n",
              "      <td>54</td>\n",
              "      <td>1</td>\n",
              "    </tr>\n",
              "  </tbody>\n",
              "</table>\n",
              "</div>"
            ],
            "text/plain": [
              "   Pregnancies  Glucose  BloodPressure  ...  DiabetesPedigreeFunction  Age  Outcome\n",
              "0            6      148             72  ...                     0.627   50        1\n",
              "1            1       85             66  ...                     0.351   31        0\n",
              "2            8      183             64  ...                     0.672   32        1\n",
              "3            1       89             66  ...                     0.167   21        0\n",
              "4            0      137             40  ...                     2.288   33        1\n",
              "5            5      116             74  ...                     0.201   30        0\n",
              "6            3       78             50  ...                     0.248   26        1\n",
              "7           10      115              0  ...                     0.134   29        0\n",
              "8            2      197             70  ...                     0.158   53        1\n",
              "9            8      125             96  ...                     0.232   54        1\n",
              "\n",
              "[10 rows x 9 columns]"
            ]
          },
          "metadata": {},
          "execution_count": 16
        }
      ]
    },
    {
      "cell_type": "markdown",
      "metadata": {
        "id": "cM2pinzMr6o8"
      },
      "source": [
        "**Membagi Data jadi Training & Testing**"
      ]
    },
    {
      "cell_type": "code",
      "metadata": {
        "id": "PezUrF5xsAhP"
      },
      "source": [
        "from sklearn.model_selection import train_test_split\n",
        "train, test = train_test_split(data, test_size=0.33, random_state=52)"
      ],
      "execution_count": null,
      "outputs": []
    },
    {
      "cell_type": "markdown",
      "metadata": {
        "id": "0CWAqQ6OsFQw"
      },
      "source": [
        "**Training Model**"
      ]
    },
    {
      "cell_type": "code",
      "metadata": {
        "id": "fWOdhhnfsI4r"
      },
      "source": [
        "X_test = test.iloc[:,:-1].values\n",
        "Y_test = test.iloc[:,-1].values\n",
        "Y_pred = naive_bayes_categorical(train, X=X_test, Y=\"Glucose\")"
      ],
      "execution_count": null,
      "outputs": []
    },
    {
      "cell_type": "code",
      "metadata": {
        "colab": {
          "base_uri": "https://localhost:8080/"
        },
        "id": "vcNauODOsOHh",
        "outputId": "ac29c31e-3965-46bf-ba44-08ead8addcea"
      },
      "source": [
        "from sklearn.metrics import accuracy_score\n",
        "print(accuracy_score(Y_test, Y_pred))"
      ],
      "execution_count": null,
      "outputs": [
        {
          "output_type": "stream",
          "name": "stdout",
          "text": [
            "0.6732283464566929\n"
          ]
        }
      ]
    },
    {
      "cell_type": "markdown",
      "metadata": {
        "id": "YpKxbd7dx8RX"
      },
      "source": [
        "#**Metode Klasifikasi Naive Bayes Data Numerik**\n",
        "\n",
        "Misal kita memiliki dataset sebagai berikut:"
      ]
    },
    {
      "cell_type": "code",
      "metadata": {
        "colab": {
          "base_uri": "https://localhost:8080/",
          "height": 355
        },
        "id": "-KQXkSBnyNw0",
        "outputId": "3f7b7dbd-e2a5-438b-abd8-4bfdc8bb0ca3"
      },
      "source": [
        "data = pd.read_csv(\"https://raw.githubusercontent.com/learn-co-curriculum/dsc-gaussian-naive-bayes-lab/master/heart.csv\")\n",
        "data.head(10)"
      ],
      "execution_count": null,
      "outputs": [
        {
          "output_type": "execute_result",
          "data": {
            "text/html": [
              "<div>\n",
              "<style scoped>\n",
              "    .dataframe tbody tr th:only-of-type {\n",
              "        vertical-align: middle;\n",
              "    }\n",
              "\n",
              "    .dataframe tbody tr th {\n",
              "        vertical-align: top;\n",
              "    }\n",
              "\n",
              "    .dataframe thead th {\n",
              "        text-align: right;\n",
              "    }\n",
              "</style>\n",
              "<table border=\"1\" class=\"dataframe\">\n",
              "  <thead>\n",
              "    <tr style=\"text-align: right;\">\n",
              "      <th></th>\n",
              "      <th>age</th>\n",
              "      <th>sex</th>\n",
              "      <th>cp</th>\n",
              "      <th>trestbps</th>\n",
              "      <th>chol</th>\n",
              "      <th>fbs</th>\n",
              "      <th>restecg</th>\n",
              "      <th>thalach</th>\n",
              "      <th>exang</th>\n",
              "      <th>oldpeak</th>\n",
              "      <th>slope</th>\n",
              "      <th>ca</th>\n",
              "      <th>thal</th>\n",
              "      <th>target</th>\n",
              "    </tr>\n",
              "  </thead>\n",
              "  <tbody>\n",
              "    <tr>\n",
              "      <th>0</th>\n",
              "      <td>63</td>\n",
              "      <td>1</td>\n",
              "      <td>3</td>\n",
              "      <td>145</td>\n",
              "      <td>233</td>\n",
              "      <td>1</td>\n",
              "      <td>0</td>\n",
              "      <td>150</td>\n",
              "      <td>0</td>\n",
              "      <td>2.3</td>\n",
              "      <td>0</td>\n",
              "      <td>0</td>\n",
              "      <td>1</td>\n",
              "      <td>1</td>\n",
              "    </tr>\n",
              "    <tr>\n",
              "      <th>1</th>\n",
              "      <td>37</td>\n",
              "      <td>1</td>\n",
              "      <td>2</td>\n",
              "      <td>130</td>\n",
              "      <td>250</td>\n",
              "      <td>0</td>\n",
              "      <td>1</td>\n",
              "      <td>187</td>\n",
              "      <td>0</td>\n",
              "      <td>3.5</td>\n",
              "      <td>0</td>\n",
              "      <td>0</td>\n",
              "      <td>2</td>\n",
              "      <td>1</td>\n",
              "    </tr>\n",
              "    <tr>\n",
              "      <th>2</th>\n",
              "      <td>41</td>\n",
              "      <td>0</td>\n",
              "      <td>1</td>\n",
              "      <td>130</td>\n",
              "      <td>204</td>\n",
              "      <td>0</td>\n",
              "      <td>0</td>\n",
              "      <td>172</td>\n",
              "      <td>0</td>\n",
              "      <td>1.4</td>\n",
              "      <td>2</td>\n",
              "      <td>0</td>\n",
              "      <td>2</td>\n",
              "      <td>1</td>\n",
              "    </tr>\n",
              "    <tr>\n",
              "      <th>3</th>\n",
              "      <td>56</td>\n",
              "      <td>1</td>\n",
              "      <td>1</td>\n",
              "      <td>120</td>\n",
              "      <td>236</td>\n",
              "      <td>0</td>\n",
              "      <td>1</td>\n",
              "      <td>178</td>\n",
              "      <td>0</td>\n",
              "      <td>0.8</td>\n",
              "      <td>2</td>\n",
              "      <td>0</td>\n",
              "      <td>2</td>\n",
              "      <td>1</td>\n",
              "    </tr>\n",
              "    <tr>\n",
              "      <th>4</th>\n",
              "      <td>57</td>\n",
              "      <td>0</td>\n",
              "      <td>0</td>\n",
              "      <td>120</td>\n",
              "      <td>354</td>\n",
              "      <td>0</td>\n",
              "      <td>1</td>\n",
              "      <td>163</td>\n",
              "      <td>1</td>\n",
              "      <td>0.6</td>\n",
              "      <td>2</td>\n",
              "      <td>0</td>\n",
              "      <td>2</td>\n",
              "      <td>1</td>\n",
              "    </tr>\n",
              "    <tr>\n",
              "      <th>5</th>\n",
              "      <td>57</td>\n",
              "      <td>1</td>\n",
              "      <td>0</td>\n",
              "      <td>140</td>\n",
              "      <td>192</td>\n",
              "      <td>0</td>\n",
              "      <td>1</td>\n",
              "      <td>148</td>\n",
              "      <td>0</td>\n",
              "      <td>0.4</td>\n",
              "      <td>1</td>\n",
              "      <td>0</td>\n",
              "      <td>1</td>\n",
              "      <td>1</td>\n",
              "    </tr>\n",
              "    <tr>\n",
              "      <th>6</th>\n",
              "      <td>56</td>\n",
              "      <td>0</td>\n",
              "      <td>1</td>\n",
              "      <td>140</td>\n",
              "      <td>294</td>\n",
              "      <td>0</td>\n",
              "      <td>0</td>\n",
              "      <td>153</td>\n",
              "      <td>0</td>\n",
              "      <td>1.3</td>\n",
              "      <td>1</td>\n",
              "      <td>0</td>\n",
              "      <td>2</td>\n",
              "      <td>1</td>\n",
              "    </tr>\n",
              "    <tr>\n",
              "      <th>7</th>\n",
              "      <td>44</td>\n",
              "      <td>1</td>\n",
              "      <td>1</td>\n",
              "      <td>120</td>\n",
              "      <td>263</td>\n",
              "      <td>0</td>\n",
              "      <td>1</td>\n",
              "      <td>173</td>\n",
              "      <td>0</td>\n",
              "      <td>0.0</td>\n",
              "      <td>2</td>\n",
              "      <td>0</td>\n",
              "      <td>3</td>\n",
              "      <td>1</td>\n",
              "    </tr>\n",
              "    <tr>\n",
              "      <th>8</th>\n",
              "      <td>52</td>\n",
              "      <td>1</td>\n",
              "      <td>2</td>\n",
              "      <td>172</td>\n",
              "      <td>199</td>\n",
              "      <td>1</td>\n",
              "      <td>1</td>\n",
              "      <td>162</td>\n",
              "      <td>0</td>\n",
              "      <td>0.5</td>\n",
              "      <td>2</td>\n",
              "      <td>0</td>\n",
              "      <td>3</td>\n",
              "      <td>1</td>\n",
              "    </tr>\n",
              "    <tr>\n",
              "      <th>9</th>\n",
              "      <td>57</td>\n",
              "      <td>1</td>\n",
              "      <td>2</td>\n",
              "      <td>150</td>\n",
              "      <td>168</td>\n",
              "      <td>0</td>\n",
              "      <td>1</td>\n",
              "      <td>174</td>\n",
              "      <td>0</td>\n",
              "      <td>1.6</td>\n",
              "      <td>2</td>\n",
              "      <td>0</td>\n",
              "      <td>2</td>\n",
              "      <td>1</td>\n",
              "    </tr>\n",
              "  </tbody>\n",
              "</table>\n",
              "</div>"
            ],
            "text/plain": [
              "   age  sex  cp  trestbps  chol  fbs  ...  exang  oldpeak  slope  ca  thal  target\n",
              "0   63    1   3       145   233    1  ...      0      2.3      0   0     1       1\n",
              "1   37    1   2       130   250    0  ...      0      3.5      0   0     2       1\n",
              "2   41    0   1       130   204    0  ...      0      1.4      2   0     2       1\n",
              "3   56    1   1       120   236    0  ...      0      0.8      2   0     2       1\n",
              "4   57    0   0       120   354    0  ...      1      0.6      2   0     2       1\n",
              "5   57    1   0       140   192    0  ...      0      0.4      1   0     1       1\n",
              "6   56    0   1       140   294    0  ...      0      1.3      1   0     2       1\n",
              "7   44    1   1       120   263    0  ...      0      0.0      2   0     3       1\n",
              "8   52    1   2       172   199    1  ...      0      0.5      2   0     3       1\n",
              "9   57    1   2       150   168    0  ...      0      1.6      2   0     2       1\n",
              "\n",
              "[10 rows x 14 columns]"
            ]
          },
          "metadata": {},
          "execution_count": 44
        }
      ]
    },
    {
      "cell_type": "markdown",
      "metadata": {
        "id": "TGNjpVjHyoPA"
      },
      "source": [
        "Jika kita akan menghitung data numerik, maka ada dua cara, pertama kita ubah ke data categorical, atau dengan pendekatan model distribusi. Artinya kita melakukan fitting data ke sebuah distribusi standar(misal distribusi normal).\n",
        "\n",
        "![image.png](data:image/png;base64,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)"
      ]
    },
    {
      "cell_type": "markdown",
      "metadata": {
        "id": "7iUJv_ab0D0f"
      },
      "source": [
        "#**Implementasi Pada Python**\n",
        "\n",
        "**Import Library**"
      ]
    },
    {
      "cell_type": "code",
      "metadata": {
        "id": "Q8KLGN5w0huy"
      },
      "source": [
        "import pandas as pd\n",
        "import numpy as np"
      ],
      "execution_count": null,
      "outputs": []
    },
    {
      "cell_type": "markdown",
      "metadata": {
        "id": "vaefbcKY0rgs"
      },
      "source": [
        "**DataFrame Input**"
      ]
    },
    {
      "cell_type": "code",
      "metadata": {
        "colab": {
          "base_uri": "https://localhost:8080/",
          "height": 355
        },
        "id": "4J9oqznr01I5",
        "outputId": "85799a63-c347-473d-ad7e-12bb35e47ce4"
      },
      "source": [
        "data = pd.read_csv('https://raw.githubusercontent.com/learn-co-curriculum/dsc-gaussian-naive-bayes-lab/master/heart.csv')\n",
        "data.head(10)"
      ],
      "execution_count": null,
      "outputs": [
        {
          "output_type": "execute_result",
          "data": {
            "text/html": [
              "<div>\n",
              "<style scoped>\n",
              "    .dataframe tbody tr th:only-of-type {\n",
              "        vertical-align: middle;\n",
              "    }\n",
              "\n",
              "    .dataframe tbody tr th {\n",
              "        vertical-align: top;\n",
              "    }\n",
              "\n",
              "    .dataframe thead th {\n",
              "        text-align: right;\n",
              "    }\n",
              "</style>\n",
              "<table border=\"1\" class=\"dataframe\">\n",
              "  <thead>\n",
              "    <tr style=\"text-align: right;\">\n",
              "      <th></th>\n",
              "      <th>age</th>\n",
              "      <th>sex</th>\n",
              "      <th>cp</th>\n",
              "      <th>trestbps</th>\n",
              "      <th>chol</th>\n",
              "      <th>fbs</th>\n",
              "      <th>restecg</th>\n",
              "      <th>thalach</th>\n",
              "      <th>exang</th>\n",
              "      <th>oldpeak</th>\n",
              "      <th>slope</th>\n",
              "      <th>ca</th>\n",
              "      <th>thal</th>\n",
              "      <th>target</th>\n",
              "    </tr>\n",
              "  </thead>\n",
              "  <tbody>\n",
              "    <tr>\n",
              "      <th>0</th>\n",
              "      <td>63</td>\n",
              "      <td>1</td>\n",
              "      <td>3</td>\n",
              "      <td>145</td>\n",
              "      <td>233</td>\n",
              "      <td>1</td>\n",
              "      <td>0</td>\n",
              "      <td>150</td>\n",
              "      <td>0</td>\n",
              "      <td>2.3</td>\n",
              "      <td>0</td>\n",
              "      <td>0</td>\n",
              "      <td>1</td>\n",
              "      <td>1</td>\n",
              "    </tr>\n",
              "    <tr>\n",
              "      <th>1</th>\n",
              "      <td>37</td>\n",
              "      <td>1</td>\n",
              "      <td>2</td>\n",
              "      <td>130</td>\n",
              "      <td>250</td>\n",
              "      <td>0</td>\n",
              "      <td>1</td>\n",
              "      <td>187</td>\n",
              "      <td>0</td>\n",
              "      <td>3.5</td>\n",
              "      <td>0</td>\n",
              "      <td>0</td>\n",
              "      <td>2</td>\n",
              "      <td>1</td>\n",
              "    </tr>\n",
              "    <tr>\n",
              "      <th>2</th>\n",
              "      <td>41</td>\n",
              "      <td>0</td>\n",
              "      <td>1</td>\n",
              "      <td>130</td>\n",
              "      <td>204</td>\n",
              "      <td>0</td>\n",
              "      <td>0</td>\n",
              "      <td>172</td>\n",
              "      <td>0</td>\n",
              "      <td>1.4</td>\n",
              "      <td>2</td>\n",
              "      <td>0</td>\n",
              "      <td>2</td>\n",
              "      <td>1</td>\n",
              "    </tr>\n",
              "    <tr>\n",
              "      <th>3</th>\n",
              "      <td>56</td>\n",
              "      <td>1</td>\n",
              "      <td>1</td>\n",
              "      <td>120</td>\n",
              "      <td>236</td>\n",
              "      <td>0</td>\n",
              "      <td>1</td>\n",
              "      <td>178</td>\n",
              "      <td>0</td>\n",
              "      <td>0.8</td>\n",
              "      <td>2</td>\n",
              "      <td>0</td>\n",
              "      <td>2</td>\n",
              "      <td>1</td>\n",
              "    </tr>\n",
              "    <tr>\n",
              "      <th>4</th>\n",
              "      <td>57</td>\n",
              "      <td>0</td>\n",
              "      <td>0</td>\n",
              "      <td>120</td>\n",
              "      <td>354</td>\n",
              "      <td>0</td>\n",
              "      <td>1</td>\n",
              "      <td>163</td>\n",
              "      <td>1</td>\n",
              "      <td>0.6</td>\n",
              "      <td>2</td>\n",
              "      <td>0</td>\n",
              "      <td>2</td>\n",
              "      <td>1</td>\n",
              "    </tr>\n",
              "    <tr>\n",
              "      <th>5</th>\n",
              "      <td>57</td>\n",
              "      <td>1</td>\n",
              "      <td>0</td>\n",
              "      <td>140</td>\n",
              "      <td>192</td>\n",
              "      <td>0</td>\n",
              "      <td>1</td>\n",
              "      <td>148</td>\n",
              "      <td>0</td>\n",
              "      <td>0.4</td>\n",
              "      <td>1</td>\n",
              "      <td>0</td>\n",
              "      <td>1</td>\n",
              "      <td>1</td>\n",
              "    </tr>\n",
              "    <tr>\n",
              "      <th>6</th>\n",
              "      <td>56</td>\n",
              "      <td>0</td>\n",
              "      <td>1</td>\n",
              "      <td>140</td>\n",
              "      <td>294</td>\n",
              "      <td>0</td>\n",
              "      <td>0</td>\n",
              "      <td>153</td>\n",
              "      <td>0</td>\n",
              "      <td>1.3</td>\n",
              "      <td>1</td>\n",
              "      <td>0</td>\n",
              "      <td>2</td>\n",
              "      <td>1</td>\n",
              "    </tr>\n",
              "    <tr>\n",
              "      <th>7</th>\n",
              "      <td>44</td>\n",
              "      <td>1</td>\n",
              "      <td>1</td>\n",
              "      <td>120</td>\n",
              "      <td>263</td>\n",
              "      <td>0</td>\n",
              "      <td>1</td>\n",
              "      <td>173</td>\n",
              "      <td>0</td>\n",
              "      <td>0.0</td>\n",
              "      <td>2</td>\n",
              "      <td>0</td>\n",
              "      <td>3</td>\n",
              "      <td>1</td>\n",
              "    </tr>\n",
              "    <tr>\n",
              "      <th>8</th>\n",
              "      <td>52</td>\n",
              "      <td>1</td>\n",
              "      <td>2</td>\n",
              "      <td>172</td>\n",
              "      <td>199</td>\n",
              "      <td>1</td>\n",
              "      <td>1</td>\n",
              "      <td>162</td>\n",
              "      <td>0</td>\n",
              "      <td>0.5</td>\n",
              "      <td>2</td>\n",
              "      <td>0</td>\n",
              "      <td>3</td>\n",
              "      <td>1</td>\n",
              "    </tr>\n",
              "    <tr>\n",
              "      <th>9</th>\n",
              "      <td>57</td>\n",
              "      <td>1</td>\n",
              "      <td>2</td>\n",
              "      <td>150</td>\n",
              "      <td>168</td>\n",
              "      <td>0</td>\n",
              "      <td>1</td>\n",
              "      <td>174</td>\n",
              "      <td>0</td>\n",
              "      <td>1.6</td>\n",
              "      <td>2</td>\n",
              "      <td>0</td>\n",
              "      <td>2</td>\n",
              "      <td>1</td>\n",
              "    </tr>\n",
              "  </tbody>\n",
              "</table>\n",
              "</div>"
            ],
            "text/plain": [
              "   age  sex  cp  trestbps  chol  fbs  ...  exang  oldpeak  slope  ca  thal  target\n",
              "0   63    1   3       145   233    1  ...      0      2.3      0   0     1       1\n",
              "1   37    1   2       130   250    0  ...      0      3.5      0   0     2       1\n",
              "2   41    0   1       130   204    0  ...      0      1.4      2   0     2       1\n",
              "3   56    1   1       120   236    0  ...      0      0.8      2   0     2       1\n",
              "4   57    0   0       120   354    0  ...      1      0.6      2   0     2       1\n",
              "5   57    1   0       140   192    0  ...      0      0.4      1   0     1       1\n",
              "6   56    0   1       140   294    0  ...      0      1.3      1   0     2       1\n",
              "7   44    1   1       120   263    0  ...      0      0.0      2   0     3       1\n",
              "8   52    1   2       172   199    1  ...      0      0.5      2   0     3       1\n",
              "9   57    1   2       150   168    0  ...      0      1.6      2   0     2       1\n",
              "\n",
              "[10 rows x 14 columns]"
            ]
          },
          "metadata": {},
          "execution_count": 47
        }
      ]
    },
    {
      "cell_type": "markdown",
      "metadata": {
        "id": "RUmYiSXB09sb"
      },
      "source": [
        "**EDA for Distribution**"
      ]
    },
    {
      "cell_type": "code",
      "metadata": {
        "colab": {
          "base_uri": "https://localhost:8080/",
          "height": 387
        },
        "id": "QeGgC3lP1DqY",
        "outputId": "3a84a1aa-7e5e-4b78-ace6-4a1f88945909"
      },
      "source": [
        "fig, axes = plt.subplots(1, 3, figsize=(18, 6), sharey=True)\n",
        "sns.histplot(data, ax=axes[0], x=\"age\", kde=True, color='g')\n",
        "sns.histplot(data, ax=axes[1], x=\"sex\", kde=True, color='b')\n",
        "sns.histplot(data, ax=axes[2], x=\"thalach\", kde=True, color='y')\n",
        "plt.show()"
      ],
      "execution_count": null,
      "outputs": [
        {
          "output_type": "display_data",
          "data": {
            "image/png": "[encoded data removed]",
            "text/plain": [
              "<Figure size 1296x432 with 3 Axes>"
            ]
          },
          "metadata": {
            "needs_background": "light"
          }
        }
      ]
    },
    {
      "cell_type": "markdown",
      "metadata": {
        "id": "wkh0HjGc1M6M"
      },
      "source": [
        "**Naive Bayes untuk Data Numerik**"
      ]
    },
    {
      "cell_type": "code",
      "metadata": {
        "id": "eF92slB-1RxW"
      },
      "source": [
        "def prob_prior(df, Y):\n",
        "  label_kelas = sorted(list(df[Y].unique()))\n",
        "  prior = []\n",
        "  for i in label_kelas:\n",
        "    prior.append(len(df[df[Y]==i])/len(df))\n",
        "  return prior"
      ],
      "execution_count": null,
      "outputs": []
    },
    {
      "cell_type": "code",
      "metadata": {
        "id": "1FBoIhI91ioP"
      },
      "source": [
        "def likelihood_gaussian(df, nama_var, nilai_var, Y, label):\n",
        "  feat = list(df.columns)\n",
        "  df = df[df[Y]==label]\n",
        "  mean, std = df[nama_var].mean(), df[nama_var].std()\n",
        "  p_x_given_y = (1 / (np.sqrt(2 * np.pi) * std)) *  np.exp(-((nilai_var-mean)**2 / (2 * std**2 )))\n",
        "  return p_x_given_y\n",
        " "
      ],
      "execution_count": null,
      "outputs": []
    },
    {
      "cell_type": "code",
      "metadata": {
        "id": "c9ZDZPJC13JB"
      },
      "source": [
        "def naive_bayes_gaussian(df, X, Y):\n",
        "  # mengambil nama kolom\n",
        "  nama_kolom = list(df.columns)[:-1]\n",
        "\n",
        "  # menghitung prob prior\n",
        "  prior = prob_prior(df, Y)\n",
        "\n",
        "  Y_pred = []\n",
        "  # lopping pada setiap baris data\n",
        "  for x in X:\n",
        "    # menghitung likelihood\n",
        "    labels = sorted(list(df[Y].unique()))\n",
        "    likelihood = [1]*len(labels)\n",
        "    for j in range(len(labels)):\n",
        "      for i in range(len(nama_kolom)):\n",
        "        likelihood[j] *= likelihood_gaussian(df, nama_kolom[i], x[i], Y, labels[j])\n",
        "\n",
        "    # menghitung posterior probability\n",
        "    post_prob = [1]*len(labels)\n",
        "    for j in range(len(labels)):\n",
        "      post_prob[j] = likelihood[j] * prior[j]\n",
        "\n",
        "    Y_pred.append(np.argmax(post_prob))\n",
        "\n",
        "  return np.array(Y_pred)"
      ],
      "execution_count": null,
      "outputs": []
    },
    {
      "cell_type": "code",
      "metadata": {
        "id": "bzG2EzuWn6h1"
      },
      "source": [
        "train, test = train_test_split(data, test_size=.2, random_state=41)\n",
        "\n",
        "X_test = test.iloc[:,:-1].values\n",
        "Y_test = test.iloc[:,-1].values\n",
        "Y_pred = naive_bayes_gaussian(train, X=X_test, Y=\"age\")"
      ],
      "execution_count": null,
      "outputs": []
    },
    {
      "cell_type": "code",
      "metadata": {
        "colab": {
          "base_uri": "https://localhost:8080/"
        },
        "id": "Wf8_V2504tLE",
        "outputId": "240c6831-2cce-4677-f4f5-e74ef6ecbd21"
      },
      "source": [
        "print(accuracy_score(Y_test, Y_pred))"
      ],
      "execution_count": null,
      "outputs": [
        {
          "output_type": "stream",
          "name": "stdout",
          "text": [
            "0.5245901639344263\n"
          ]
        }
      ]
    }
  ]
}