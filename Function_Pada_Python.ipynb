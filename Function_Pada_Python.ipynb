{
  "nbformat": 4,
  "nbformat_minor": 0,
  "metadata": {
    "colab": {
      "name": "Function Pada Python.ipynb",
      "provenance": [],
      "authorship_tag": "ABX9TyO4/Qjic6DsX/SvSz8Q/EK/",
      "include_colab_link": true
    },
    "kernelspec": {
      "name": "python3",
      "display_name": "Python 3"
    },
    "language_info": {
      "name": "python"
    }
  },
  "cells": [
    {
      "cell_type": "markdown",
      "metadata": {
        "id": "view-in-github",
        "colab_type": "text"
      },
      "source": [
        "<a href=\"https://colab.research.google.com/github/Firzafitian/Training-Algoritma-Machine-Learning/blob/main/Function_Pada_Python.ipynb\" target=\"_parent\"><img src=\"https://colab.research.google.com/assets/colab-badge.svg\" alt=\"Open In Colab\"/></a>"
      ]
    },
    {
      "cell_type": "markdown",
      "metadata": {
        "id": "02FHy6PQAbs8"
      },
      "source": [
        "Assalamu'alaikum warahmatullahi wabarakatuh. Puji syukur kehadirat Allah Subhana Wata'ala atas limpahan Rahmat dan HidayahNya kepada kita semua. Sholawat serta salam senantiasa tercurah limpahkan kepada baginda Muhammad Rasulullah Salallahualaihiwassalam."
      ]
    },
    {
      "cell_type": "markdown",
      "metadata": {
        "id": "jwT4KVbYDW0M"
      },
      "source": [
        "Halo para **Pejuang Data**. Selamat berjumpa di pertemuan pertama Program Training **Algoritma Machine Learning** Kelas Mahir.\n"
      ]
    },
    {
      "cell_type": "markdown",
      "metadata": {
        "id": "6dbEpl4jCyma"
      },
      "source": [
        "Pada pertemuan ini kamu akan belajar:\n",
        "\n",
        "*   Fungsi Pada Python\n",
        "*   Keyword & Argument\n",
        "*   Membuat Fungsi Pada Python\n",
        "*   Positional Argument & Keyword\n",
        "*   Argument Default\n",
        "*   Contoh User Defined Function\n",
        "*   Latihan\n"
      ]
    },
    {
      "cell_type": "markdown",
      "metadata": {
        "id": "KyoGigwpoyXy"
      },
      "source": [
        "# **Function**"
      ]
    },
    {
      "cell_type": "markdown",
      "metadata": {
        "id": "6zaK7OM8pDB1"
      },
      "source": [
        "Function adalah sebuah blok statemen yang hanya akan dijalankan saat ia dipangil.!"
      ]
    },
    {
      "cell_type": "code",
      "metadata": {
        "colab": {
          "base_uri": "https://localhost:8080/"
        },
        "id": "pSfoglvdoZfY",
        "outputId": "44ce32d8-0e97-4f1b-a62a-333fb57dbeab"
      },
      "source": [
        "genap = [2,4,6,8,10]\n",
        "\n",
        "len(genap)"
      ],
      "execution_count": null,
      "outputs": [
        {
          "output_type": "execute_result",
          "data": {
            "text/plain": [
              "5"
            ]
          },
          "metadata": {},
          "execution_count": 1
        }
      ]
    },
    {
      "cell_type": "code",
      "metadata": {
        "colab": {
          "base_uri": "https://localhost:8080/"
        },
        "id": "dzvemCM2pZ4N",
        "outputId": "a9d5a317-3389-48e5-9d04-867adf45ac5b"
      },
      "source": [
        "print('Assalamualaikum Dunia')"
      ],
      "execution_count": null,
      "outputs": [
        {
          "output_type": "stream",
          "name": "stdout",
          "text": [
            "Assalamualaikum Dunia\n"
          ]
        }
      ]
    },
    {
      "cell_type": "markdown",
      "metadata": {
        "id": "xBG9M5y2plVz"
      },
      "source": [
        "# **Keyword & Argument!**"
      ]
    },
    {
      "cell_type": "markdown",
      "metadata": {
        "id": "r7VVmLsipujN"
      },
      "source": [
        "**Keyword/Parameter** : Variable yang digunakan dalam deklarasi fungsi"
      ]
    },
    {
      "cell_type": "markdown",
      "metadata": {
        "id": "q5EgSEvdp9Bo"
      },
      "source": [
        "**Argument** : Nilai yang diberikan saat pemanggilan fungsi"
      ]
    },
    {
      "cell_type": "code",
      "metadata": {
        "colab": {
          "base_uri": "https://localhost:8080/"
        },
        "id": "aJA90w8cphqB",
        "outputId": "43e25fb5-f9c3-4411-956b-0962281aa658"
      },
      "source": [
        "# sep = keyword/parameter\n",
        "# '-' = argument\n",
        "\n",
        "print('kata1', 'kata2', sep='-')"
      ],
      "execution_count": null,
      "outputs": [
        {
          "output_type": "stream",
          "name": "stdout",
          "text": [
            "kata1-kata2\n"
          ]
        }
      ]
    },
    {
      "cell_type": "markdown",
      "metadata": {
        "id": "UYoGvKE9qoeE"
      },
      "source": [
        "# **Membuat Fungsi**"
      ]
    },
    {
      "cell_type": "markdown",
      "metadata": {
        "id": "NmwgF2rVqty7"
      },
      "source": [
        "Python mengizinkan untuk mendeklarasikan fungsi dalam kode yang dituliskan yang dikenal dengan **user defined function**."
      ]
    },
    {
      "cell_type": "code",
      "metadata": {
        "id": "9-ZfB8Keq9uB"
      },
      "source": [
        "def nama_fungsi(argument):\n",
        "  pernyataan_1\n",
        "  ...\n",
        "  pernyataan_n\n",
        "  return nilai_keluaran"
      ],
      "execution_count": null,
      "outputs": []
    },
    {
      "cell_type": "code",
      "metadata": {
        "id": "Nz4P4k2KrQw7"
      },
      "source": [
        "# Pendefinisian fungsi_kuadrat\n",
        "def fungsi_kuadrat(x):\n",
        "  hasil = x**2\n",
        "  return hasil"
      ],
      "execution_count": null,
      "outputs": []
    },
    {
      "cell_type": "code",
      "metadata": {
        "id": "eFctQWIVrveR"
      },
      "source": [
        "# Alternatif pendefinisian fungsi_kuadrat\n",
        "def fungsi_kuadrat(x):\n",
        "  return x**2"
      ],
      "execution_count": null,
      "outputs": []
    },
    {
      "cell_type": "code",
      "metadata": {
        "colab": {
          "base_uri": "https://localhost:8080/"
        },
        "id": "HIB-DBHJr8Za",
        "outputId": "2e5a3834-86bd-403d-8cad-956755ae1455"
      },
      "source": [
        "# Pemanggilan fungsi_kuadrat\n",
        "fungsi_kuadrat(7)"
      ],
      "execution_count": null,
      "outputs": [
        {
          "output_type": "execute_result",
          "data": {
            "text/plain": [
              "49"
            ]
          },
          "metadata": {},
          "execution_count": 7
        }
      ]
    },
    {
      "cell_type": "markdown",
      "metadata": {
        "id": "yrL3kxy4sFaC"
      },
      "source": [
        "# **Positional Argument & Keyword**"
      ]
    },
    {
      "cell_type": "markdown",
      "metadata": {
        "id": "sprsDrrXsMJV"
      },
      "source": [
        "Kita bisa menyatakan argumen sebagai positional argument atau keyword. Beberapa manfaat argumen kata kunci dapat berupa :\n",
        "\n",
        "\n",
        "*   Kita dapat menyebut argumen dengan nama mereka untuk memperjelas apa yang mereka wakili\n",
        "*   Kita dapat mengatur ulang argumen dengan cara yang membuatnya paling mudah dibaca\n",
        "\n",
        "\n",
        "\n"
      ]
    },
    {
      "cell_type": "code",
      "metadata": {
        "id": "5zwLwTqTsxTN"
      },
      "source": [
        "# Mendefinisikan fungsi dengan beberapa argumen\n",
        "def tampilkan_kata(a, b, c):\n",
        "  print(a, b, c)"
      ],
      "execution_count": null,
      "outputs": []
    },
    {
      "cell_type": "code",
      "metadata": {
        "colab": {
          "base_uri": "https://localhost:8080/"
        },
        "id": "Aem2S4lJtCwy",
        "outputId": "448f5957-0a09-4964-e24c-290210fc0338"
      },
      "source": [
        "# Positional Arguments\n",
        "tampilkan_kata('aku', 'kau', 'dia')"
      ],
      "execution_count": null,
      "outputs": [
        {
          "output_type": "stream",
          "name": "stdout",
          "text": [
            "aku kau dia\n"
          ]
        }
      ]
    },
    {
      "cell_type": "code",
      "metadata": {
        "colab": {
          "base_uri": "https://localhost:8080/"
        },
        "id": "EB8mhXHetTY1",
        "outputId": "c366a890-27c0-4d95-a375-6e5972a13f3e"
      },
      "source": [
        "# argumen berdasarkan keyword-nya\n",
        "tampilkan_kata(a='aku', b='kau', c='dia')\n",
        "tampilkan_kata(c='dia', b='kau', a='aku')"
      ],
      "execution_count": null,
      "outputs": [
        {
          "output_type": "stream",
          "name": "stdout",
          "text": [
            "aku kau dia\n",
            "aku kau dia\n"
          ]
        }
      ]
    },
    {
      "cell_type": "markdown",
      "metadata": {
        "id": "kYiIF094towx"
      },
      "source": [
        "Catatan : Jika sudah diberi kunci maka urutan tidak menjadi penting"
      ]
    },
    {
      "cell_type": "code",
      "metadata": {
        "colab": {
          "base_uri": "https://localhost:8080/"
        },
        "id": "0j6uyPPOtwiA",
        "outputId": "1e3d31f5-4ff9-4b32-dceb-bf899fabac20"
      },
      "source": [
        "# Campuran antara argumen posisi dan argumen kata kunci\n",
        "tampilkan_kata('aku', b='kau', c='dia')"
      ],
      "execution_count": null,
      "outputs": [
        {
          "output_type": "stream",
          "name": "stdout",
          "text": [
            "aku kau dia\n"
          ]
        }
      ]
    },
    {
      "cell_type": "markdown",
      "metadata": {
        "id": "h5QLFJXkt9fq"
      },
      "source": [
        "**Ini tidak diizinkan** :\n",
        "\n",
        "\n",
        "*   Positional Argument setelah keyword argument\n",
        "\n",
        "```\n",
        "tampilkan_kata('aku', b='kau', 'dia')\n",
        "```"
      ]
    },
    {
      "cell_type": "markdown",
      "metadata": {
        "id": "MuieQeTqD9nW"
      },
      "source": [
        "*   Terdapat dua nilai untuk satu keyword argument yang sama\n",
        "\n",
        "```\n",
        "tampilkan_kata(1, b=2, a=3)\n",
        "```"
      ]
    },
    {
      "cell_type": "markdown",
      "metadata": {
        "id": "abF36XcRuzgM"
      },
      "source": [
        "# **Argument Default**"
      ]
    },
    {
      "cell_type": "markdown",
      "metadata": {
        "id": "rYDP3_NTvbdk"
      },
      "source": [
        "Fungsi dapat memiliki argumen default dengan nilai yang telah ditentukan sebelumnya. Argumen ini dapat ditinggalkan dan nilai default kemudian diteruskan ke fungsi, atau argumen dapat dirubah dengan nilai yang berbeda. Perhatikan bahwa argumen default harus ditentukan sebagai **parameter terakhir** dalam suatu fungsi."
      ]
    },
    {
      "cell_type": "code",
      "metadata": {
        "colab": {
          "base_uri": "https://localhost:8080/"
        },
        "id": "YMs1OzSIwFxJ",
        "outputId": "812a4e3f-9232-492d-f2da-34e0e1c63ac0"
      },
      "source": [
        "# Argument Default\n",
        "def tampilkan_kata(a, b, c, d='sahabat'):\n",
        "  print(a, b, c, d)\n",
        "\n",
        "tampilkan_kata('aku', 'kau', 'dia')\n",
        "tampilkan_kata('aku', b='kau', c='dia', d='teman')"
      ],
      "execution_count": null,
      "outputs": [
        {
          "output_type": "stream",
          "name": "stdout",
          "text": [
            "aku kau dia sahabat\n",
            "aku kau dia teman\n"
          ]
        }
      ]
    },
    {
      "cell_type": "markdown",
      "metadata": {
        "id": "Ljh5yy7Wwgoc"
      },
      "source": [
        "Catatan : Argument Default harus diletakan terakhir"
      ]
    },
    {
      "cell_type": "markdown",
      "metadata": {
        "id": "56tB6ZMgwp4v"
      },
      "source": [
        "# **Contoh User Defined Function**"
      ]
    },
    {
      "cell_type": "markdown",
      "metadata": {
        "id": "Tr9w561Mwww8"
      },
      "source": [
        "**Contoh 1 :**\n",
        "\n",
        "Penjumlahan 2 bilangan"
      ]
    },
    {
      "cell_type": "code",
      "metadata": {
        "colab": {
          "base_uri": "https://localhost:8080/"
        },
        "id": "cMBhkw5Kw38u",
        "outputId": "e30efdd1-b49d-434f-ff28-419742e19c0b"
      },
      "source": [
        "def penjumlahan(x, y):    # input\n",
        "  a=x+y                   # proses\n",
        "  return a                # output\n",
        "\n",
        "penjumlahan(1, 2)         # pemanggilan fungsi"
      ],
      "execution_count": null,
      "outputs": [
        {
          "output_type": "execute_result",
          "data": {
            "text/plain": [
              "3"
            ]
          },
          "metadata": {},
          "execution_count": 13
        }
      ]
    },
    {
      "cell_type": "markdown",
      "metadata": {
        "id": "53iVM2g3xZAL"
      },
      "source": [
        "**Contoh 2 :**\n",
        "\n",
        "Penjumlahan yang memungkinkan untuk 3 bilangan"
      ]
    },
    {
      "cell_type": "code",
      "metadata": {
        "colab": {
          "base_uri": "https://localhost:8080/"
        },
        "id": "-p3PO-SixnP-",
        "outputId": "eb2f098a-8781-4aa5-c6a6-eafe04615440"
      },
      "source": [
        "def penjumlahan(x, y, z=None):\n",
        "  if (z==None):\n",
        "    return x+y\n",
        "  else :\n",
        "    return x+y+z\n",
        "\n",
        "print(penjumlahan(1, 2))\n",
        "print(penjumlahan(1, 2, 3))"
      ],
      "execution_count": null,
      "outputs": [
        {
          "output_type": "stream",
          "name": "stdout",
          "text": [
            "3\n",
            "6\n"
          ]
        }
      ]
    },
    {
      "cell_type": "markdown",
      "metadata": {
        "id": "_q6_o4Z7yE7O"
      },
      "source": [
        "**Contoh 3 :**\n",
        "\n",
        "Menghitung luas dan keliling persegi"
      ]
    },
    {
      "cell_type": "code",
      "metadata": {
        "colab": {
          "base_uri": "https://localhost:8080/"
        },
        "id": "0DACj-kJyIeI",
        "outputId": "6486e77b-346b-4825-a875-f0c19900f769"
      },
      "source": [
        "def luas_dan_keliling_persegi(s):\n",
        "  luas = s**2\n",
        "  keliling = 4*s\n",
        "  return luas, keliling\n",
        "\n",
        "luas, keliling = luas_dan_keliling_persegi(2)\n",
        "print('luas :', luas)\n",
        "print('keliling :', keliling)"
      ],
      "execution_count": null,
      "outputs": [
        {
          "output_type": "stream",
          "name": "stdout",
          "text": [
            "luas : 4\n",
            "keliling : 8\n"
          ]
        }
      ]
    },
    {
      "cell_type": "markdown",
      "metadata": {
        "id": "cN00UdwTy9j0"
      },
      "source": [
        "# **Latihan**"
      ]
    },
    {
      "cell_type": "markdown",
      "metadata": {
        "id": "-EmcLh2kzCsH"
      },
      "source": [
        "1. Buatlah sebuah fungsi untuk menghitung luas dan keliling lingkaran dengan input jari-jari!"
      ]
    },
    {
      "cell_type": "code",
      "metadata": {
        "colab": {
          "base_uri": "https://localhost:8080/"
        },
        "id": "Ag-HLUxqzLlz",
        "outputId": "c47fe554-ee95-4330-a4f6-a86bb8d97a46"
      },
      "source": [
        "def luas_dan_keliling_lingkaran(r):\n",
        "  luas = (22/7)*(r**2)\n",
        "  keliling = 2*(22/7)*r\n",
        "  return luas, keliling\n",
        "\n",
        "luas, keliling = luas_dan_keliling_lingkaran(7)\n",
        "print('luas :', luas)\n",
        "print('keliling :', keliling)"
      ],
      "execution_count": null,
      "outputs": [
        {
          "output_type": "stream",
          "name": "stdout",
          "text": [
            "luas : 154.0\n",
            "keliling : 44.0\n"
          ]
        }
      ]
    },
    {
      "cell_type": "markdown",
      "metadata": {
        "id": "HzKAh7yq04nE"
      },
      "source": [
        "2. Buatlah sebuah fungsi untuk menggabungkan dua kata dalam bentuk string bebas menjadi satu kata tanpa spasi dengan huruf kecil"
      ]
    },
    {
      "cell_type": "markdown",
      "metadata": {
        "id": "fb_YQxdGEh7n"
      },
      "source": [
        "Contoh :"
      ]
    },
    {
      "cell_type": "code",
      "metadata": {
        "id": "lV7ALHTuErGL"
      },
      "source": [
        "gabung_kata('TANGKUBAN', 'PeRaHu')"
      ],
      "execution_count": null,
      "outputs": []
    },
    {
      "cell_type": "markdown",
      "metadata": {
        "id": "yjbGEo6eEuJO"
      },
      "source": [
        "Output :\n",
        "\n",
        "'''python 'tangkubanperahu'"
      ]
    },
    {
      "cell_type": "code",
      "metadata": {
        "colab": {
          "base_uri": "https://localhost:8080/"
        },
        "id": "GD6cFshJzSAm",
        "outputId": "bbfa803f-9e90-46d6-a4f6-af17df9adf51"
      },
      "source": [
        "def gabung_kata(a, b):\n",
        "  print(a.lower(), b.lower(), sep='')\n",
        "\n",
        "gabung_kata('TANGKUBAN', 'PeRaHu')"
      ],
      "execution_count": null,
      "outputs": [
        {
          "output_type": "stream",
          "name": "stdout",
          "text": [
            "tangkubanperahu\n"
          ]
        }
      ]
    },
    {
      "cell_type": "markdown",
      "metadata": {
        "id": "Q5TXfM8O2fEy"
      },
      "source": [
        "3. Buatlah sebuah fungsi awal_akhir(list_input) untuk menukar elemen pertama pada sebuah list dengan elemen terakhir pada list yang sama!\n",
        "\n",
        "contoh :"
      ]
    },
    {
      "cell_type": "code",
      "metadata": {
        "id": "i6rwL9ouFA6X"
      },
      "source": [
        "awal_akhir([1,2,3,4])"
      ],
      "execution_count": null,
      "outputs": []
    },
    {
      "cell_type": "code",
      "metadata": {
        "id": "n02F9mMuFGLB"
      },
      "source": [
        "Output :\n",
        "\n",
        "'''python [4,2,3,1]"
      ],
      "execution_count": null,
      "outputs": []
    },
    {
      "cell_type": "code",
      "metadata": {
        "id": "0Ek87t1U4APG",
        "colab": {
          "base_uri": "https://localhost:8080/"
        },
        "outputId": "b2c1c86c-f310-4eb5-f46f-6d0e1c568b09"
      },
      "source": [
        "def awal_akhir(a,b,c,d):\n",
        "  return [d,b,c,a]\n",
        "\n",
        "awal_akhir(1,2,3,4)"
      ],
      "execution_count": null,
      "outputs": [
        {
          "output_type": "execute_result",
          "data": {
            "text/plain": [
              "[4, 2, 3, 1]"
            ]
          },
          "metadata": {},
          "execution_count": 18
        }
      ]
    }
  ]
}